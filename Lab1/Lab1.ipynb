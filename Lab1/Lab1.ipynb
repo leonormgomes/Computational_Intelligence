{
 "cells": [
  {
   "cell_type": "code",
   "execution_count": 1,
   "metadata": {
    "id": "15UJZHhe1A_G"
   },
   "outputs": [],
   "source": [
    "import random\n",
    "import math\n",
    "import copy"
   ]
  },
  {
   "cell_type": "code",
   "execution_count": 2,
   "metadata": {
    "id": "7AT6U9hx1X6O"
   },
   "outputs": [],
   "source": [
    "def problem(N, seed=None):\n",
    "    random.seed(seed)\n",
    "    return [\n",
    "        list(set(random.randint(0, N - 1) for n in range(random.randint(N // 5, N // 2))))\n",
    "        for n in range(random.randint(N, N * 5))\n",
    "    ]"
   ]
  },
  {
   "cell_type": "code",
   "execution_count": 3,
   "metadata": {
    "colab": {
     "base_uri": "https://localhost:8080/"
    },
    "id": "Wjxcvae91hf4",
    "outputId": "d02e9daa-eae6-4d48-8489-daf24d2994b3"
   },
   "outputs": [
    {
     "name": "stdout",
     "output_type": "stream",
     "text": [
      "10\n"
     ]
    }
   ],
   "source": [
    "N = int(input())\n"
   ]
  },
  {
   "cell_type": "code",
   "execution_count": 4,
   "metadata": {
    "id": "emeAkgNG2gQE"
   },
   "outputs": [],
   "source": [
    "P = problem(N)"
   ]
  },
  {
   "cell_type": "code",
   "execution_count": 5,
   "metadata": {
    "colab": {
     "base_uri": "https://localhost:8080/"
    },
    "id": "upt6eigH2qAM",
    "outputId": "8b740f81-0c0f-423c-b4c1-776fc52b5efb"
   },
   "outputs": [
    {
     "name": "stdout",
     "output_type": "stream",
     "text": [
      "[[8, 0, 7], [1, 2], [9, 4], [0, 1, 4, 7, 8], [1, 2, 6], [0, 5, 7], [1, 2, 9, 7], [9, 4], [8, 4, 5], [8, 1], [3, 6], [8, 3, 4, 6], [9, 5, 6, 7], [8, 1, 2, 5], [1], [8, 9, 2, 3], [5, 6, 7], [9, 4, 6], [8, 7], [2, 3, 5, 8, 9], [8, 9, 5, 6], [9, 3, 4, 6], [0, 8, 3, 7], [8, 1, 2, 3], [8, 2, 3], [8, 2, 4, 6], [3, 5, 6, 7], [1, 3, 4, 6, 9], [0, 1, 6], [0, 1, 3], [9, 2, 4, 7], [0, 1, 3], [2, 6], [8, 3, 5], [2, 7], [8, 2, 3, 5], [0, 1, 4, 9], [9, 7], [0, 4], [0, 3]]\n"
     ]
    }
   ],
   "source": [
    "print(P)"
   ]
  },
  {
   "cell_type": "code",
   "execution_count": 21,
   "metadata": {
    "id": "VIH0KqYL3cGX"
   },
   "outputs": [],
   "source": [
    "def find_number(n, list_):\n",
    "  for l in list_:\n",
    "    if n in l:\n",
    "      return True\n",
    "  return False"
   ]
  },
  {
   "cell_type": "code",
   "execution_count": 16,
   "metadata": {
    "id": "fmHkj6fI3Cn_"
   },
   "outputs": [],
   "source": [
    "def check_sol(N, generated_list):\n",
    "  for n in range (N):\n",
    "    result = find_number(n, generated_list)\n",
    "    if result == False:\n",
    "      return False\n",
    "  return True\n"
   ]
  },
  {
   "cell_type": "code",
   "execution_count": 8,
   "metadata": {
    "id": "-uq-4EYq7EU1"
   },
   "outputs": [],
   "source": [
    "def sol_cost(solution): \n",
    "  count = 0\n",
    "  for l in solution:\n",
    "    count += len(l)\n",
    "  return count"
   ]
  },
  {
   "cell_type": "code",
   "execution_count": 9,
   "metadata": {
    "id": "2RiS2aonHBqc"
   },
   "outputs": [],
   "source": [
    "def repetitive_values(possible_sol):\n",
    "  count = 0\n",
    "  aux = []\n",
    "  for l in possible_sol:\n",
    "    for n in l:\n",
    "      if n in aux:\n",
    "        count += 1\n",
    "      else:\n",
    "        aux.append(n)\n",
    "  return count"
   ]
  },
  {
   "cell_type": "code",
   "execution_count": 34,
   "metadata": {
    "id": "YBDHbk8WGdIo"
   },
   "outputs": [],
   "source": [
    "def heuristic(current_sol, possible_l): #review\n",
    "  possible_sol = copy.deepcopy(current_sol)\n",
    "  possible_sol.append(possible_l)\n",
    "  return sol_cost(possible_sol) + repetitive_values(possible_sol)"
   ]
  },
  {
   "cell_type": "code",
   "execution_count": 11,
   "metadata": {
    "id": "srRoilOhLIC9"
   },
   "outputs": [],
   "source": [
    "def get_next_list(P, current_solution):\n",
    "  h_value = math.inf\n",
    "  aux_l = []\n",
    "  for l in P:\n",
    "    if l not in current_solution:\n",
    "      if heuristic(current_solution, l) < h_value:\n",
    "        h_value = heuristic(current_solution, l)\n",
    "        aux_l = l\n",
    "      else: continue\n",
    "  return current_solution.append(aux_l)"
   ]
  },
  {
   "cell_type": "code",
   "execution_count": 18,
   "metadata": {
    "id": "HE5uCHfsFYJj"
   },
   "outputs": [],
   "source": [
    "def greedy(P):\n",
    "  solution = []\n",
    "  valid_sol = False\n",
    "  while valid_sol == False:\n",
    "    get_next_list(P, solution)\n",
    "    valid_sol = check_sol(N, solution)\n",
    "  return solution"
   ]
  },
  {
   "cell_type": "code",
   "execution_count": 35,
   "metadata": {
    "id": "ceuGgi6NN32O"
   },
   "outputs": [
    {
     "name": "stdout",
     "output_type": "stream",
     "text": [
      "[[1]]\n",
      "inside check_sol\n",
      "[[1], [9, 4]]\n",
      "inside check_sol\n",
      "[[1], [9, 4], [3, 6]]\n",
      "inside check_sol\n",
      "[[1], [9, 4], [3, 6], [8, 7]]\n",
      "inside check_sol\n",
      "[[1], [9, 4], [3, 6], [8, 7], [1, 2]]\n",
      "inside check_sol\n",
      "[[1], [9, 4], [3, 6], [8, 7], [1, 2], [0, 4]]\n",
      "inside check_sol\n",
      "[[1], [9, 4], [3, 6], [8, 7], [1, 2], [0, 4], [8, 1]]\n",
      "inside check_sol\n",
      "[[1], [9, 4], [3, 6], [8, 7], [1, 2], [0, 4], [8, 1], [2, 6]]\n",
      "inside check_sol\n",
      "[[1], [9, 4], [3, 6], [8, 7], [1, 2], [0, 4], [8, 1], [2, 6], [2, 7]]\n",
      "inside check_sol\n",
      "[[1], [9, 4], [3, 6], [8, 7], [1, 2], [0, 4], [8, 1], [2, 6], [2, 7], [9, 7]]\n",
      "inside check_sol\n",
      "[[1], [9, 4], [3, 6], [8, 7], [1, 2], [0, 4], [8, 1], [2, 6], [2, 7], [9, 7], [0, 3]]\n",
      "inside check_sol\n",
      "[[1], [9, 4], [3, 6], [8, 7], [1, 2], [0, 4], [8, 1], [2, 6], [2, 7], [9, 7], [0, 3], [0, 5, 7]]\n",
      "inside check_sol\n",
      "[[1], [9, 4], [3, 6], [8, 7], [1, 2], [0, 4], [8, 1], [2, 6], [2, 7], [9, 7], [0, 3], [0, 5, 7]]\n"
     ]
    }
   ],
   "source": [
    "solution = greedy(P)\n",
    "print(solution)"
   ]
  },
  {
   "cell_type": "code",
   "execution_count": 24,
   "metadata": {},
   "outputs": [
    {
     "data": {
      "text/plain": [
       "14"
      ]
     },
     "execution_count": 24,
     "metadata": {},
     "output_type": "execute_result"
    }
   ],
   "source": [
    "repetitive_values([[1], [9, 4], [3, 6], [8, 7], [1, 2], [0, 4], [8, 1], [2, 6], [2, 7], [9, 7], [0, 3], [0, 5, 7]])"
   ]
  },
  {
   "cell_type": "code",
   "execution_count": 25,
   "metadata": {},
   "outputs": [
    {
     "data": {
      "text/plain": [
       "12"
      ]
     },
     "execution_count": 25,
     "metadata": {},
     "output_type": "execute_result"
    }
   ],
   "source": [
    "repetitive_values([[1], [9, 4], [3, 6], [8, 7], [1, 2], [0, 4], [8, 1], [2, 6], [2, 7], [9, 7], [0, 3]])"
   ]
  },
  {
   "cell_type": "code",
   "execution_count": 36,
   "metadata": {},
   "outputs": [
    {
     "data": {
      "text/plain": [
       "58"
      ]
     },
     "execution_count": 36,
     "metadata": {},
     "output_type": "execute_result"
    }
   ],
   "source": [
    "heuristic([[1], [9, 4], [3, 6], [8, 7], [1, 2], [0, 4], [8, 1], [2, 6]],[0, 5, 7] )"
   ]
  },
  {
   "cell_type": "code",
   "execution_count": 37,
   "metadata": {},
   "outputs": [
    {
     "data": {
      "text/plain": [
       "57"
      ]
     },
     "execution_count": 37,
     "metadata": {},
     "output_type": "execute_result"
    }
   ],
   "source": [
    "heuristic([[1], [9, 4], [3, 6], [8, 7], [1, 2], [0, 4], [8, 1], [2, 6]], [2, 7])"
   ]
  },
  {
   "cell_type": "code",
   "execution_count": null,
   "metadata": {},
   "outputs": [],
   "source": []
  }
 ],
 "metadata": {
  "colab": {
   "provenance": []
  },
  "kernelspec": {
   "display_name": "Python 3",
   "language": "python",
   "name": "python3"
  },
  "language_info": {
   "codemirror_mode": {
    "name": "ipython",
    "version": 3
   },
   "file_extension": ".py",
   "mimetype": "text/x-python",
   "name": "python",
   "nbconvert_exporter": "python",
   "pygments_lexer": "ipython3",
   "version": "3.8.5"
  }
 },
 "nbformat": 4,
 "nbformat_minor": 1
}
