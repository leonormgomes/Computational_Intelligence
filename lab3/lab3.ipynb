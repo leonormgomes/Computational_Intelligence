{
 "cells": [
  {
   "cell_type": "code",
   "execution_count": 144,
   "metadata": {
    "id": "cDRZbMfES5OL"
   },
   "outputs": [],
   "source": [
    "import logging\n",
    "from collections import namedtuple\n",
    "import random\n",
    "from typing import Callable\n",
    "from copy import deepcopy\n",
    "from itertools import accumulate\n",
    "from operator import xor\n",
    "from platform import python_version"
   ]
  },
  {
   "cell_type": "code",
   "execution_count": 145,
   "metadata": {
    "id": "xVz7nNknxIB5"
   },
   "outputs": [],
   "source": [
    "Nimply = namedtuple(\"Nimply\", \"row, num_objects\") #move"
   ]
  },
  {
   "cell_type": "code",
   "execution_count": 146,
   "metadata": {
    "id": "bRrVLf_QS839"
   },
   "outputs": [],
   "source": [
    "class Nim:\n",
    "    def __init__(self, num_rows: int, k: int = None) -> None:\n",
    "        self._rows = [i * 2 + 1 for i in range(num_rows)]\n",
    "        self._k = k\n",
    "\n",
    "    def __bool__(self):\n",
    "        return sum(self._rows) > 0\n",
    "\n",
    "    def __str__(self):\n",
    "        return \"<\" + \" \".join(str(_) for _ in self._rows) + \">\"\n",
    "\n",
    "    @property\n",
    "    def rows(self) -> tuple:\n",
    "        return tuple(self._rows)\n",
    "\n",
    "    @property\n",
    "    def k(self) -> int:\n",
    "        return self._k\n",
    "\n",
    "    def nimming(self, ply: Nimply) -> None:\n",
    "        row, num_objects = ply\n",
    "        assert self._rows[row] >= num_objects\n",
    "        assert self._k is None or num_objects <= self._k\n",
    "        self._rows[row] -= num_objects\n",
    "    "
   ]
  },
  {
   "cell_type": "markdown",
   "metadata": {
    "id": "S7UUsQSHTPZR"
   },
   "source": [
    "### Task 3.1 - Fixed rules based on nim-sum (an expert system)\n"
   ]
  },
  {
   "cell_type": "code",
   "execution_count": 149,
   "metadata": {
    "id": "zyNRBjHFuI2h"
   },
   "outputs": [],
   "source": [
    "def nim_sum(nim): #hard coded optimal agent\n",
    "\n",
    "  X = nim._rows[0]\n",
    "\n",
    "  # X is the nim_sum(bitwise xor) of all heap sizes\n",
    "  for i in range(1, len(nim._rows)):\n",
    "    X = X ^ nim._rows[i]\n",
    "\n",
    "  nim_sum_val = []\n",
    "\n",
    "  # calculate the nim_sum between X and each heap size\n",
    "  for i in nim._rows:\n",
    "    val = i ^ X\n",
    "    nim_sum_val.append(val)\n",
    "\n",
    "  row = \"false\"\n",
    " \n",
    "  for i in range(len(nim_sum_val)):\n",
    "    if nim_sum_val[i] < nim._rows[i]:\n",
    "      row = i\n",
    "      break\n",
    "  \n",
    "  # reduce that heap to value nim_sum\n",
    "  if (row != \"false\"):\n",
    "    num_objects = nim._rows[row] - nim_sum_val[row]\n",
    "    move = Nimply(row, num_objects)\n",
    "  \n",
    "  else:\n",
    "    rand_row = random.randrange(0,len(nim._rows))\n",
    "\n",
    "    while(nim._rows[rand_row] == 0):\n",
    "      rand_row = random.randrange(0,len(nim._rows))\n",
    "\n",
    "    if(nim._rows[rand_row] != 1):\n",
    "      rand_obj = random.randrange(1, nim._rows[rand_row])\n",
    "                                  \n",
    "    else: rand_obj = 1\n",
    "\n",
    "    move = Nimply(rand_row, rand_obj)\n",
    "  \n",
    "  return move"
   ]
  },
  {
   "cell_type": "code",
   "execution_count": 150,
   "metadata": {
    "colab": {
     "base_uri": "https://localhost:8080/"
    },
    "id": "dDpvYAj83cgk",
    "outputId": "99c4f574-74cd-4d1b-89da-6131782f96eb"
   },
   "outputs": [
    {
     "name": "stderr",
     "output_type": "stream",
     "text": [
      "DEBUG:root:status: Initial board  -> <1 3 5 7 9 11 13 15 17 19 21>\n",
      "DEBUG:root:status: After player 0 -> <1 3 5 7 9 11 13 15 6 19 21>\n",
      "DEBUG:root:status: After player 1 -> <1 3 5 7 2 11 13 15 6 19 21>\n",
      "DEBUG:root:status: After player 0 -> <1 3 5 7 2 0 13 15 6 19 21>\n",
      "DEBUG:root:status: After player 1 -> <1 3 5 7 2 0 13 6 6 19 21>\n",
      "DEBUG:root:status: After player 0 -> <1 3 5 7 2 0 4 6 6 19 21>\n",
      "DEBUG:root:status: After player 1 -> <1 1 5 7 2 0 4 6 6 19 21>\n",
      "DEBUG:root:status: After player 0 -> <1 1 5 5 2 0 4 6 6 19 21>\n",
      "DEBUG:root:status: After player 1 -> <1 1 5 5 1 0 4 6 6 19 21>\n",
      "DEBUG:root:status: After player 0 -> <1 1 5 5 1 0 4 5 6 19 21>\n",
      "DEBUG:root:status: After player 1 -> <1 1 5 5 1 0 4 5 6 19 11>\n",
      "DEBUG:root:status: After player 0 -> <1 1 5 5 1 0 4 5 6 13 11>\n",
      "DEBUG:root:status: After player 1 -> <1 1 5 5 1 0 3 5 6 13 11>\n",
      "DEBUG:root:status: After player 0 -> <1 1 2 5 1 0 3 5 6 13 11>\n",
      "DEBUG:root:status: After player 1 -> <1 1 2 1 1 0 3 5 6 13 11>\n",
      "DEBUG:root:status: After player 0 -> <1 1 2 1 1 0 3 1 6 13 11>\n",
      "DEBUG:root:status: After player 1 -> <0 1 2 1 1 0 3 1 6 13 11>\n",
      "DEBUG:root:status: After player 0 -> <0 0 2 1 1 0 3 1 6 13 11>\n",
      "DEBUG:root:status: After player 1 -> <0 0 2 1 1 0 3 1 6 11 11>\n",
      "DEBUG:root:status: After player 0 -> <0 0 2 1 1 0 3 1 0 11 11>\n",
      "DEBUG:root:status: After player 1 -> <0 0 1 1 1 0 3 1 0 11 11>\n",
      "DEBUG:root:status: After player 0 -> <0 0 1 1 1 0 0 1 0 11 11>\n",
      "DEBUG:root:status: After player 1 -> <0 0 1 1 1 0 0 1 0 2 11>\n",
      "DEBUG:root:status: After player 0 -> <0 0 1 1 1 0 0 1 0 2 2>\n",
      "DEBUG:root:status: After player 1 -> <0 0 0 1 1 0 0 1 0 2 2>\n",
      "DEBUG:root:status: After player 0 -> <0 0 0 0 1 0 0 1 0 2 2>\n",
      "DEBUG:root:status: After player 1 -> <0 0 0 0 0 0 0 1 0 2 2>\n",
      "DEBUG:root:status: After player 0 -> <0 0 0 0 0 0 0 0 0 2 2>\n",
      "DEBUG:root:status: After player 1 -> <0 0 0 0 0 0 0 0 0 1 2>\n",
      "DEBUG:root:status: After player 0 -> <0 0 0 0 0 0 0 0 0 1 1>\n",
      "DEBUG:root:status: After player 1 -> <0 0 0 0 0 0 0 0 0 0 1>\n",
      "DEBUG:root:status: After player 0 -> <0 0 0 0 0 0 0 0 0 0 0>\n",
      "INFO:root:status: Player 0 won!\n"
     ]
    }
   ],
   "source": [
    "logging.getLogger().setLevel(logging.DEBUG)\n",
    "\n",
    "nim = Nim(11)\n",
    "logging.debug(f\"status: Initial board  -> {nim}\")\n",
    "player = 0\n",
    "while nim:\n",
    "    ply = nim_sum(nim)\n",
    "    nim.nimming(ply)\n",
    "    logging.debug(f\"status: After player {player} -> {nim}\")\n",
    "    player = 1 - player\n",
    "winner = 1 - player\n",
    "logging.info(f\"status: Player {winner} won!\")"
   ]
  },
  {
   "cell_type": "markdown",
   "metadata": {
    "id": "R0oP7d6qTY_Z"
   },
   "source": [
    "### Task 3.2 - Evolved Rules"
   ]
  },
  {
   "cell_type": "code",
   "execution_count": 139,
   "metadata": {},
   "outputs": [],
   "source": [
    "# variables\n",
    "OFFSPRING_SIZE = 200\n",
    "K= 5\n",
    "POPULATION_SIZE = 50\n",
    "TOURNAMENT_SIZE = 5"
   ]
  },
  {
   "cell_type": "code",
   "execution_count": 100,
   "metadata": {},
   "outputs": [],
   "source": [
    "def pure_random(state: Nim) -> Nimply: #function from the professor\n",
    "    row = random.choice([r for r, c in enumerate(state.rows) if c > 0])\n",
    "    num_objects = random.randint(1, state.rows[row])\n",
    "    return Nimply(row, num_objects)\n"
   ]
  },
  {
   "cell_type": "code",
   "execution_count": 101,
   "metadata": {},
   "outputs": [],
   "source": [
    "def nim_sum(state: Nim) -> int: #function from the professor\n",
    "    *_, result = accumulate(state.rows, xor)\n",
    "    return result"
   ]
  },
  {
   "cell_type": "code",
   "execution_count": 102,
   "metadata": {},
   "outputs": [],
   "source": [
    "def active_rows_index(state):\n",
    "    \n",
    "    active_rows_index = []\n",
    "    idx = 0\n",
    "    \n",
    "    for o in state.rows:\n",
    "        if o > 0:\n",
    "          active_rows_index.append(idx)\n",
    "        idx += 1\n",
    "        \n",
    "    return active_rows_index"
   ]
  },
  {
   "cell_type": "code",
   "execution_count": 108,
   "metadata": {},
   "outputs": [],
   "source": [
    "def cook_status(state): #part of the function is from the professor\n",
    "    \n",
    "    cooked = dict()\n",
    "    \n",
    "    cooked[\"possible_moves\"] = [\n",
    "        (r, o) for r, c in enumerate(state.rows) for o in range(1, c + 1) if state.k is None or o <= state.k\n",
    "    ] #possible moves\n",
    "    \n",
    "    cooked[\"active_rows_number\"] = sum(o > 0 for o in state.rows) #number of rows that are not 0\n",
    "    cooked[\"active_rows_index\"] = active_rows_index(state) #get the index of rows that are not 0\n",
    "    \n",
    "    #get the index and the value of rows that only have one elem\n",
    "    cooked[\"rows_with_one_element\"] = [(index, r) for index, r in enumerate(state.rows) if r == 1] \n",
    "    \n",
    "    #get the index and the value of rows that have more than one elem\n",
    "    cooked[\"rows_multiple_elem\"] = [(index, r) for index, r in enumerate(state.rows) if r > 1]\n",
    "    \n",
    "    #get the shortest row\n",
    "    cooked[\"shortest_row\"] = min((x for x in enumerate(state.rows) if x[1] > 0), key=lambda y: y[1])[0]\n",
    "    \n",
    "    #get the long row\n",
    "    cooked[\"longest_row\"] = max((x for x in enumerate(state.rows)), key=lambda y: y[1])[0]\n",
    "    \n",
    "    \n",
    "    cooked[\"nim_sum\"] = nim_sum(state) #get the best move\n",
    "    \n",
    "    cooked[\"pure_random\"] = pure_random(state) #get a random move\n",
    "\n",
    "    brute_force = list()\n",
    "    \n",
    "    for m in cooked[\"possible_moves\"]:\n",
    "        tmp = deepcopy(state)\n",
    "        tmp.nimming(m)\n",
    "        brute_force.append((m, nim_sum(tmp)))\n",
    "        \n",
    "    cooked[\"brute_force\"] = brute_force\n",
    "\n",
    "    return cooked\n"
   ]
  },
  {
   "cell_type": "code",
   "execution_count": 104,
   "metadata": {},
   "outputs": [],
   "source": [
    "def optimal_startegy(state: Nim) -> Nimply: #function from the professor\n",
    "    data = cook_status(state)\n",
    "    return next((bf for bf in data[\"brute_force\"] if bf[1] == 0), random.choice(data[\"brute_force\"]))[0]"
   ]
  },
  {
   "cell_type": "code",
   "execution_count": 105,
   "metadata": {},
   "outputs": [],
   "source": [
    "def random_agent(state): #An agent returning a random move\n",
    "    data = cook_status(state)\n",
    "    return data[\"pure_random\"]"
   ]
  },
  {
   "cell_type": "code",
   "execution_count": 106,
   "metadata": {},
   "outputs": [],
   "source": [
    "def dumb(state): #A dumb agent that always picks one element from the longest row\n",
    "    data = cook_status(state)\n",
    "    row = data[\"longest_row\"]\n",
    "    return Nimply(row, 1)\n"
   ]
  },
  {
   "cell_type": "code",
   "execution_count": 124,
   "metadata": {},
   "outputs": [],
   "source": [
    "OPPONENT = [optimal_startegy, random_agent, dumb] #opponents "
   ]
  },
  {
   "cell_type": "markdown",
   "metadata": {},
   "source": [
    "**Rules**"
   ]
  },
  {
   "cell_type": "markdown",
   "metadata": {},
   "source": [
    "For a detailed explanation, please consult the README!"
   ]
  },
  {
   "cell_type": "code",
   "execution_count": 109,
   "metadata": {},
   "outputs": [],
   "source": [
    "#Rule 1\n",
    "\n",
    "def one_row_left(state, data, genome): #Rule 1 - if only one row left: leave x sticks\n",
    "    \n",
    "    \n",
    "    active_row = data[\"active_rows_index\"][0]\n",
    "    elem_last_row = state.rows[active_row] #active_rows_index returns a list -> need to get the first one\n",
    "   \n",
    "    if elem_last_row < genome['Rule1']: #if the rule want to leave more sticks than exists in row\n",
    "        ply = Nimply(active_row, 1)\n",
    "        \n",
    "    else:\n",
    "        \n",
    "        elem_to_remove = max(elem_last_row - genome[\"Rule1\"], 1) #if take more elem than exists -> take all\n",
    "        ply = Nimply(active_row, elem_to_remove)\n",
    "\n",
    "    return ply"
   ]
  },
  {
   "cell_type": "code",
   "execution_count": 110,
   "metadata": {},
   "outputs": [],
   "source": [
    "def rule_one_multiple_left(state, data, genome, rule): #Rule 2 and 4 \n",
    "    \n",
    "  active_rows_index = data[\"active_rows_index\"]\n",
    "  single_elem_rows = data[\"rows_with_one_element\"]\n",
    "  multiple_elem_rows = data[\"rows_multiple_elem\"]\n",
    "\n",
    "\n",
    "  if genome[rule][0] == 0:  # take from row with one elem\n",
    "    \n",
    "    elem = 1 # want to take the last elem in row\n",
    "    single_elem_row = single_elem_rows[0][0] # looks like [(row,elem),(row,elem)] if two rows with single elem\n",
    "    ply = Nimply(single_elem_row, 1) #takes from the first row that has 1 elem\n",
    "\n",
    "  else: #take from the row with more than one element\n",
    "\n",
    "    if len(multiple_elem_rows) == 0: #if single elem in all rows\n",
    "      row = single_elem_rows[0][0]\n",
    "      elem = 1\n",
    "        \n",
    "    else: \n",
    "      row = multiple_elem_rows[0][0] # [(row,elem)] -> since only one row with multiple elem\n",
    "    \n",
    "    if (genome[rule][1] > state.rows[row]): # if it wants to leave more elem than exists in row\n",
    "      elem = 1\n",
    "                        \n",
    "    else: \n",
    "        \n",
    "      elem = max(state.rows[row] - genome[rule][1], 1)\n",
    "    \n",
    "    ply = Nimply(row, elem)\n",
    "      \n",
    "  return ply\n"
   ]
  },
  {
   "cell_type": "code",
   "execution_count": 111,
   "metadata": {},
   "outputs": [],
   "source": [
    "def rule_several_multiple_left(state, data, genome, rule): #Rule 3 and 5\n",
    "\n",
    "  if (genome[rule][0] == 0): # choose from row with fewest elemt\n",
    "    row = data['shortest_row']\n",
    "    \n",
    "  else: #choose from row with biggest elem\n",
    "    row = data['longest_row']\n",
    "      \n",
    "  elem = max(state.rows[row] - genome[rule][1], 1)\n",
    "  ply = Nimply(row, elem)\n",
    "\n",
    "  return ply"
   ]
  },
  {
   "cell_type": "code",
   "execution_count": 112,
   "metadata": {},
   "outputs": [],
   "source": [
    "def even_rows_left(state, data, genome): #rules for when we have an even number of non-zero rows\n",
    "    \n",
    "  rows_multiple_elem = data[\"rows_multiple_elem\"]\n",
    "\n",
    "  if len(rows_multiple_elem) == 1: # Rule 2 - only one row with multiple elems\n",
    "    \n",
    "    ply = rule_one_multiple_left(state, data, genome,'Rule2')\n",
    "  \n",
    "  else: # Rule 3 - more than one row with multiple elems \n",
    "           \n",
    "    ply = rule_several_multiple_left(state, data, genome,'Rule3')\n",
    "\n",
    "  return ply\n"
   ]
  },
  {
   "cell_type": "code",
   "execution_count": 115,
   "metadata": {},
   "outputs": [],
   "source": [
    "def odd_number_of_rows_left(state, data, genome):  #rules for when we have an odd number of non-zero rows\n",
    "    \n",
    "    rows_multiple_elem = data[\"rows_multiple_elem\"]\n",
    "\n",
    "    if len(rows_multiple_elem) == 1: # Rule 4 - only one row with multiple elems\n",
    "        ply = rule_one_multiple_left(state, data, genome,'Rule4')\n",
    "  \n",
    "    else: # Rule 5 - more than one row with multiple elems             \n",
    "        ply = rule_several_multiple_left(state, data, genome,'Rule5')\n",
    "\n",
    "    return ply"
   ]
  },
  {
   "cell_type": "code",
   "execution_count": 116,
   "metadata": {},
   "outputs": [],
   "source": [
    "def make_strategy(genome: dict) -> Callable:\n",
    "    def evolvable(state: Nim) -> Nimply:\n",
    "        \n",
    "        data = cook_status(state)\n",
    "\n",
    "        active_rows_number = data[\"active_rows_number\"]\n",
    "\n",
    "        #only one active row left - we choose Rule 1\n",
    "        if active_rows_number == 1:\n",
    "            ply = one_row_left(state=state,data=data, genome=genome) \n",
    "        \n",
    "        #even number of rows left - we choose Rule 2 or 3\n",
    "        elif active_rows_number %2 == 0: # even numbers\n",
    "\n",
    "            ply = even_rows_left(state=state, data=data, genome=genome)\n",
    "\n",
    "        #odd number of rows left - we choose Rule 4 or 5\n",
    "        else: \n",
    "            ply = odd_number_of_rows_left(state=state, data=data, genome=genome)\n",
    "\n",
    "        return ply\n",
    "\n",
    "    return evolvable"
   ]
  },
  {
   "cell_type": "markdown",
   "metadata": {},
   "source": [
    "**Genetic functions**"
   ]
  },
  {
   "cell_type": "markdown",
   "metadata": {},
   "source": [
    "For a detailed explanation of the genetic strategy, please consult the README!"
   ]
  },
  {
   "cell_type": "code",
   "execution_count": 118,
   "metadata": {},
   "outputs": [],
   "source": [
    "def head2head(individual1, opponent, nim_size): #compute the fitness - makes two players compete against each other\n",
    "    won = 0\n",
    "    \n",
    "    nim = Nim(nim_size) #creates the board\n",
    "\n",
    "    players = (make_strategy(individual1), opponent) #gets the players\n",
    "    player = 0\n",
    "    \n",
    "    while nim:\n",
    "        \n",
    "        ply = players[player](nim)\n",
    "        nim.nimming(ply)\n",
    "        player = 1 - player\n",
    "        \n",
    "    winner = 1 - player\n",
    "    \n",
    "    if winner == 0:\n",
    "        return 1\n",
    "    else:\n",
    "        return 0\n"
   ]
  },
  {
   "cell_type": "code",
   "execution_count": 126,
   "metadata": {},
   "outputs": [],
   "source": [
    "def calculate_fitness(population, nim_size): # calculate fitness for whole population\n",
    "    NUM_MATCHES = 10\n",
    "    \n",
    "    for p1 in population:\n",
    "        \n",
    "        fitness = []\n",
    "\n",
    "        for strat in OPPONENT: #plays against optimal player, random player and dumb player \n",
    "            wins = 0\n",
    "            \n",
    "            for _ in range(NUM_MATCHES):\n",
    "                wins += head2head(p1, strat, nim_size)\n",
    "                \n",
    "            fitness.append(wins/NUM_MATCHES)\n",
    "            \n",
    "        p1['fitness'] = (fitness[0], fitness[1], fitness[2]) #fitness according to each type of player"
   ]
  },
  {
   "cell_type": "code",
   "execution_count": 137,
   "metadata": {},
   "outputs": [],
   "source": [
    "def init_population(nim_size): #initiates population\n",
    "    \n",
    "    population = []\n",
    "    max_leave = (nim_size-1)*2 # last row of the table will have nim_size*2-1 objects\n",
    "\n",
    "    cond = POPULATION_SIZE\n",
    "    \n",
    "    while cond: #creates individuals\n",
    "        individual = {'Rule1': random.randint(0,max_leave), 'Rule2': [random.randint(0,1), max_leave], 'Rule3': [random.randint(0, 1), random.randint(0, max_leave)],\n",
    "        'Rule4': [random.randint(0,1), max_leave], 'Rule5': [random.randint(0,1), max_leave]}\n",
    "        \n",
    "        individual['fitness'] = ()\n",
    "        population.append(individual)\n",
    "        \n",
    "        cond -= 1\n",
    "        \n",
    "    return population"
   ]
  },
  {
   "cell_type": "code",
   "execution_count": 127,
   "metadata": {},
   "outputs": [],
   "source": [
    "def k_fittest_indv(population, k): #gets the k fittest individuals of a population\n",
    "    return sorted(population, key=lambda indv: indv['fitness'], reverse=True)[:k]"
   ]
  },
  {
   "cell_type": "code",
   "execution_count": 129,
   "metadata": {},
   "outputs": [],
   "source": [
    "# select k random individuals, return the one with best fitness\n",
    "def tournament(population, nim_size):    \n",
    "    \n",
    "    contestors = random.sample(population, TOURNAMENT_SIZE)\n",
    "    best_contestor = sorted(contestors, key=lambda indv: indv['fitness'], reverse=True)[0] #sorts contestors by descending order of fitness\n",
    "  \n",
    "    return best_contestor\n",
    "    \n"
   ]
  },
  {
   "cell_type": "code",
   "execution_count": 130,
   "metadata": {},
   "outputs": [],
   "source": [
    "def crossover(parent1, parent2, mutation_prob): # take two parents and create one child w/ a mutation probability\n",
    "    \n",
    "    rules_parent1 = [key for key in parent1.keys() if 'Rule' in key] #gets rules in parent genome\n",
    "    \n",
    "    child = {}\n",
    "\n",
    "    for rule in rules_parent1:\n",
    "        which_parent = random.randint(0,1)\n",
    "        \n",
    "        if which_parent == 0: # take parameters from parent1\n",
    "            child[rule] = parent1[rule]\n",
    "            \n",
    "        else: #take parameters from parent 2\n",
    "            child[rule] = parent2[rule]\n",
    "    \n",
    "    child['fitness'] = ()\n",
    "    rules = [key for key in child.keys() if 'Rule' in key]\n",
    "\n",
    "    #mutation\n",
    "    if random.random() < mutation_prob:\n",
    "        \n",
    "        rule = random.choice(rules) #chooses a random rule to mutate\n",
    "        r1 = parent1[rule]\n",
    "        r2 = parent2[rule]\n",
    "\n",
    "        if rule == 'Rule1':\n",
    "            mean = int((r1+r2)/2) #mutates to average of values of rule 1\n",
    "            child[rule] = mean\n",
    "\n",
    "        else:\n",
    "            mean_val_one = int((r1[0]+r2[0])/2)\n",
    "            mean_val_two = int((r1[1]+r2[1])/2)\n",
    "            child[rule] = [mean_val_one, mean_val_two]\n",
    "    \n",
    "    return child"
   ]
  },
  {
   "cell_type": "code",
   "execution_count": 132,
   "metadata": {},
   "outputs": [],
   "source": [
    "def create_offspring(population, nim_size, mutation_prob): #gets new population of offspring\n",
    "    offspring = []\n",
    "    \n",
    "    for i in range(OFFSPRING_SIZE):\n",
    "        parent1 = tournament(population, nim_size) #gets parent 1\n",
    "        parent2 = tournament(population, nim_size) #gets parent 2\n",
    "\n",
    "        child = crossover(parent1, parent2, mutation_prob=mutation_prob) #crossover between parent 1 and 2 and creates one child\n",
    "        \n",
    "        offspring.append(child)\n",
    "        \n",
    "    return offspring"
   ]
  },
  {
   "cell_type": "code",
   "execution_count": 133,
   "metadata": {},
   "outputs": [],
   "source": [
    "def get_next_generation(population): #sorts the population in descending order by fitness and returns the k ones with best fitness\n",
    "    best_k_indv = sorted(population, key=lambda child: child['fitness'], reverse=True)[:POPULATION_SIZE]\n",
    "    return best_k_indv\n"
   ]
  },
  {
   "cell_type": "code",
   "execution_count": 142,
   "metadata": {},
   "outputs": [
    {
     "name": "stderr",
     "output_type": "stream",
     "text": [
      "DEBUG:root:best player {'Rule1': 0, 'Rule2': [0, 4], 'Rule3': [0, 4], 'Rule4': [1, 4], 'Rule5': [0, 4], 'fitness': (0.0, 1.0, 1.0)}\n"
     ]
    },
    {
     "data": {
      "text/plain": [
       "{'Rule1': 0,\n",
       " 'Rule2': [0, 4],\n",
       " 'Rule3': [0, 4],\n",
       " 'Rule4': [1, 4],\n",
       " 'Rule5': [0, 4],\n",
       " 'fitness': (0.0, 1.0, 1.0)}"
      ]
     },
     "execution_count": 142,
     "metadata": {},
     "output_type": "execute_result"
    }
   ],
   "source": [
    "# GAME\n",
    "nim_size = 5\n",
    "GENERATIONS = 2\n",
    "\n",
    "def evolution_agent(nim_size):\n",
    "    population = init_population(nim_size) #creates population\n",
    "    \n",
    "    for _ in range(GENERATIONS):\n",
    "    \n",
    "        offspring = create_offspring(population, nim_size, 0.2) #creates a new offspring\n",
    "    \n",
    "        calculate_fitness(offspring, nim_size) #calculates fitness of offspring\n",
    "    \n",
    "        population = get_next_generation(offspring) #gets new population from best offspring\n",
    "        \n",
    "    best_indv = population[0]\n",
    "    logging.debug(f\"best player {best_indv}\")\n",
    "    \n",
    "    return best_indv\n",
    "\n",
    "evolution_agent(nim_size)"
   ]
  },
  {
   "cell_type": "markdown",
   "metadata": {
    "id": "6LOGW44cTd8I"
   },
   "source": [
    "### Task 3.3 - Minimax\n",
    "https://realpython.com/python-minimax-nim/"
   ]
  },
  {
   "cell_type": "code",
   "execution_count": 19,
   "metadata": {
    "id": "fFpcohy7lKDL"
   },
   "outputs": [],
   "source": [
    "def possible_new_states(nim_rows): #define all possible states \n",
    "\n",
    "  possible = []\n",
    "\n",
    "  for row in range(len(nim_rows)) :\n",
    "\n",
    "    for j in range(nim_rows[row]):\n",
    "      new_state = deepcopy(nim_rows)\n",
    "\n",
    "      new_state[row] = nim_rows[row] - j - 1\n",
    "      possible.append(new_state)\n",
    "  \n",
    "  return possible\n",
    "\n"
   ]
  },
  {
   "cell_type": "code",
   "execution_count": 20,
   "metadata": {
    "id": "bZ5C472Zk5IR"
   },
   "outputs": [],
   "source": [
    "def evaluate(nim_rows, player): #evaluate if the game is finished\n",
    "  if (sum(nim_rows) == 0):\n",
    "    return -1 if player == 0 else 1 \n",
    "  else: return None"
   ]
  },
  {
   "cell_type": "code",
   "execution_count": 21,
   "metadata": {
    "id": "CtZ_J4P2nr8t"
   },
   "outputs": [],
   "source": [
    "def minimax(nim_rows, player):\n",
    "\n",
    "  score = evaluate(nim_rows, player)\n",
    "\n",
    "  if score != None:\n",
    "    return score\n",
    "\n",
    "  if (player == 0):\n",
    "\n",
    "    scores = [minimax(new_state, player = 1) for new_state in possible_new_states(nim_rows)] \n",
    "    return max(scores)\n",
    "\n",
    "  else:\n",
    "\n",
    "    scores = [minimax(new_state, player = 0) for new_state in possible_new_states(nim_rows)] \n",
    "    return min(scores)\n",
    "\n"
   ]
  },
  {
   "cell_type": "code",
   "execution_count": 24,
   "metadata": {
    "id": "KBtRBkI2stS2"
   },
   "outputs": [],
   "source": [
    "def best_move(nim_rows, player):\n",
    "\n",
    "  if player == 0:\n",
    "    new_player = 1\n",
    "\n",
    "    return max(\n",
    "      (minimax(new_state, new_player), new_state)\n",
    "        for new_state in possible_new_states(nim_rows)\n",
    "    )\n",
    "  else:\n",
    "    new_player = 0\n",
    "\n",
    "  return min(\n",
    "        (minimax(new_state, new_player), new_state)\n",
    "        for new_state in possible_new_states(nim_rows)\n",
    "    )"
   ]
  },
  {
   "cell_type": "code",
   "execution_count": 92,
   "metadata": {},
   "outputs": [],
   "source": [
    "def minimax_pruning(state, is_maximizing, alpha=-1, beta=1):\n",
    "    \n",
    "    if (score := evaluate(state, is_maximizing)) is not None:\n",
    "        return score\n",
    "\n",
    "    scores = []\n",
    "    \n",
    "    for new_state in possible_new_states(state):\n",
    "        scores.append(\n",
    "            score := minimax_pruning(new_state, not is_maximizing, alpha, beta)\n",
    "        )\n",
    "        if is_maximizing:\n",
    "            alpha = max(alpha, score)\n",
    "        else:\n",
    "            beta = min(beta, score)\n",
    "            \n",
    "        if beta <= alpha:\n",
    "            break\n",
    "            \n",
    "    return (max if is_maximizing else min)(scores)\n",
    "    "
   ]
  },
  {
   "cell_type": "code",
   "execution_count": 95,
   "metadata": {},
   "outputs": [],
   "source": [
    "def best_move_pruning(state, player):\n",
    "    if player == 0:\n",
    "        return max(\n",
    "            (minimax_pruning(new_state, is_maximizing=False), new_state)\n",
    "            for new_state in possible_new_states(state)\n",
    "        )\n",
    "    else:\n",
    "        return min(\n",
    "            (minimax_pruning(new_state, is_maximizing=True), new_state)\n",
    "            for new_state in possible_new_states(state)\n",
    "        )"
   ]
  },
  {
   "cell_type": "code",
   "execution_count": 97,
   "metadata": {},
   "outputs": [
    {
     "data": {
      "text/plain": [
       "(-1, [1, 3, 2])"
      ]
     },
     "execution_count": 97,
     "metadata": {},
     "output_type": "execute_result"
    }
   ],
   "source": [
    "best_move_pruning([1,3,5], 1)"
   ]
  },
  {
   "cell_type": "code",
   "execution_count": 99,
   "metadata": {},
   "outputs": [],
   "source": [
    "def nimply_move(current_state, new_state):\n",
    "    \n",
    "    diff = 0\n",
    "    row = len(current_state) #invalid row\n",
    "    \n",
    "    for i in range(len(current__state)):\n",
    "        \n",
    "        if current_state[i] != new_state[i]:\n",
    "            diff = current_state[i] - new_state[i]\n",
    "            row = i\n",
    "            \n",
    "    return Nimply(row, diff)"
   ]
  },
  {
   "cell_type": "markdown",
   "metadata": {
    "id": "zWvNHvgOTgwF"
   },
   "source": [
    "### Task 3.4 - Reinforcement Learning\n",
    "Q-Learning"
   ]
  },
  {
   "cell_type": "code",
   "execution_count": null,
   "metadata": {},
   "outputs": [],
   "source": [
    " class QLearner:\n",
    "    #hashmap for the q function\n",
    "    #learning rate and discount factor\n",
    "    def __init__(self):\n",
    "        self.q = "
   ]
  }
 ],
 "metadata": {
  "colab": {
   "provenance": []
  },
  "kernelspec": {
   "display_name": "Python 3",
   "language": "python",
   "name": "python3"
  },
  "language_info": {
   "codemirror_mode": {
    "name": "ipython",
    "version": 3
   },
   "file_extension": ".py",
   "mimetype": "text/x-python",
   "name": "python",
   "nbconvert_exporter": "python",
   "pygments_lexer": "ipython3",
   "version": "3.8.5"
  }
 },
 "nbformat": 4,
 "nbformat_minor": 1
}
